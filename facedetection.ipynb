{
 "cells": [
  {
   "cell_type": "code",
   "execution_count": 1,
   "metadata": {},
   "outputs": [
    {
     "name": "stderr",
     "output_type": "stream",
     "text": [
      "Using TensorFlow backend.\n"
     ]
    }
   ],
   "source": [
    "from keras.applications import vgg16\n",
    "img_rows, img_cols = 224, 224 \n",
    "# Re-loads the MobileNet model without the top or FC layers\n",
    "model=vgg16.VGG16(weights = 'imagenet', \n",
    "                 include_top = False, \n",
    "                 input_shape = (img_rows, img_cols, 3))"
   ]
  },
  {
   "cell_type": "code",
   "execution_count": 2,
   "metadata": {},
   "outputs": [
    {
     "data": {
      "text/plain": [
       "[<keras.engine.input_layer.InputLayer at 0x2bdf21309c8>,\n",
       " <keras.layers.convolutional.Conv2D at 0x2bdfa9a1848>,\n",
       " <keras.layers.convolutional.Conv2D at 0x2bdfa9a1908>,\n",
       " <keras.layers.pooling.MaxPooling2D at 0x2bdfaa04788>,\n",
       " <keras.layers.convolutional.Conv2D at 0x2bdfaa04e88>,\n",
       " <keras.layers.convolutional.Conv2D at 0x2bdfaa0cac8>,\n",
       " <keras.layers.pooling.MaxPooling2D at 0x2bdfaa0c748>,\n",
       " <keras.layers.convolutional.Conv2D at 0x2bdfaa17588>,\n",
       " <keras.layers.convolutional.Conv2D at 0x2bdfaa22748>,\n",
       " <keras.layers.convolutional.Conv2D at 0x2bdfaa27348>,\n",
       " <keras.layers.pooling.MaxPooling2D at 0x2bdfaa31888>,\n",
       " <keras.layers.convolutional.Conv2D at 0x2bdfaa31648>,\n",
       " <keras.layers.convolutional.Conv2D at 0x2bdfaa3be48>,\n",
       " <keras.layers.convolutional.Conv2D at 0x2bdfaa40bc8>,\n",
       " <keras.layers.pooling.MaxPooling2D at 0x2bdfaa48508>,\n",
       " <keras.layers.convolutional.Conv2D at 0x2bdfaa4a648>,\n",
       " <keras.layers.convolutional.Conv2D at 0x2bdfaa53cc8>,\n",
       " <keras.layers.convolutional.Conv2D at 0x2bdfaa5c488>,\n",
       " <keras.layers.pooling.MaxPooling2D at 0x2bdfaa5ed08>]"
      ]
     },
     "execution_count": 2,
     "metadata": {},
     "output_type": "execute_result"
    }
   ],
   "source": [
    "model.layers"
   ]
  },
  {
   "cell_type": "code",
   "execution_count": 3,
   "metadata": {},
   "outputs": [],
   "source": [
    "for layer in model.layers:\n",
    "    layer.trainable = False"
   ]
  },
  {
   "cell_type": "code",
   "execution_count": 4,
   "metadata": {},
   "outputs": [
    {
     "data": {
      "text/plain": [
       "False"
      ]
     },
     "execution_count": 4,
     "metadata": {},
     "output_type": "execute_result"
    }
   ],
   "source": [
    "model.layers[10].trainable"
   ]
  },
  {
   "cell_type": "code",
   "execution_count": null,
   "metadata": {},
   "outputs": [],
   "source": []
  },
  {
   "cell_type": "code",
   "execution_count": 5,
   "metadata": {},
   "outputs": [],
   "source": [
    "from keras.optimizers import RMSprop\n",
    "from keras.layers import Dense,GlobalAveragePooling2D\n",
    "from keras.models import Model\n",
    "num_classes = 1\n",
    "    \n",
    "top_model = model.output\n",
    "top_model = GlobalAveragePooling2D()(top_model)\n",
    "top_model = Dense(1800,activation='relu')(top_model)\n",
    "top_model = Dense(1200,activation='relu')(top_model)\n",
    "top_model = Dense(num_classes,activation='sigmoid')(top_model)\n",
    "facemodel=Model(inputs=model.input, outputs =top_model)"
   ]
  },
  {
   "cell_type": "code",
   "execution_count": 6,
   "metadata": {},
   "outputs": [
    {
     "data": {
      "text/plain": [
       "[<keras.engine.input_layer.InputLayer at 0x2bdf21309c8>,\n",
       " <keras.layers.convolutional.Conv2D at 0x2bdfa9a1848>,\n",
       " <keras.layers.convolutional.Conv2D at 0x2bdfa9a1908>,\n",
       " <keras.layers.pooling.MaxPooling2D at 0x2bdfaa04788>,\n",
       " <keras.layers.convolutional.Conv2D at 0x2bdfaa04e88>,\n",
       " <keras.layers.convolutional.Conv2D at 0x2bdfaa0cac8>,\n",
       " <keras.layers.pooling.MaxPooling2D at 0x2bdfaa0c748>,\n",
       " <keras.layers.convolutional.Conv2D at 0x2bdfaa17588>,\n",
       " <keras.layers.convolutional.Conv2D at 0x2bdfaa22748>,\n",
       " <keras.layers.convolutional.Conv2D at 0x2bdfaa27348>,\n",
       " <keras.layers.pooling.MaxPooling2D at 0x2bdfaa31888>,\n",
       " <keras.layers.convolutional.Conv2D at 0x2bdfaa31648>,\n",
       " <keras.layers.convolutional.Conv2D at 0x2bdfaa3be48>,\n",
       " <keras.layers.convolutional.Conv2D at 0x2bdfaa40bc8>,\n",
       " <keras.layers.pooling.MaxPooling2D at 0x2bdfaa48508>,\n",
       " <keras.layers.convolutional.Conv2D at 0x2bdfaa4a648>,\n",
       " <keras.layers.convolutional.Conv2D at 0x2bdfaa53cc8>,\n",
       " <keras.layers.convolutional.Conv2D at 0x2bdfaa5c488>,\n",
       " <keras.layers.pooling.MaxPooling2D at 0x2bdfaa5ed08>,\n",
       " <keras.layers.pooling.GlobalAveragePooling2D at 0x2bdf21304c8>,\n",
       " <keras.layers.core.Dense at 0x2bdf21306c8>,\n",
       " <keras.layers.core.Dense at 0x2bdfabc4788>,\n",
       " <keras.layers.core.Dense at 0x2bdfabc6788>]"
      ]
     },
     "execution_count": 6,
     "metadata": {},
     "output_type": "execute_result"
    }
   ],
   "source": [
    "facemodel.layers\n"
   ]
  },
  {
   "cell_type": "code",
   "execution_count": 7,
   "metadata": {},
   "outputs": [
    {
     "name": "stdout",
     "output_type": "stream",
     "text": [
      "Model: \"model_1\"\n",
      "_________________________________________________________________\n",
      "Layer (type)                 Output Shape              Param #   \n",
      "=================================================================\n",
      "input_1 (InputLayer)         (None, 224, 224, 3)       0         \n",
      "_________________________________________________________________\n",
      "block1_conv1 (Conv2D)        (None, 224, 224, 64)      1792      \n",
      "_________________________________________________________________\n",
      "block1_conv2 (Conv2D)        (None, 224, 224, 64)      36928     \n",
      "_________________________________________________________________\n",
      "block1_pool (MaxPooling2D)   (None, 112, 112, 64)      0         \n",
      "_________________________________________________________________\n",
      "block2_conv1 (Conv2D)        (None, 112, 112, 128)     73856     \n",
      "_________________________________________________________________\n",
      "block2_conv2 (Conv2D)        (None, 112, 112, 128)     147584    \n",
      "_________________________________________________________________\n",
      "block2_pool (MaxPooling2D)   (None, 56, 56, 128)       0         \n",
      "_________________________________________________________________\n",
      "block3_conv1 (Conv2D)        (None, 56, 56, 256)       295168    \n",
      "_________________________________________________________________\n",
      "block3_conv2 (Conv2D)        (None, 56, 56, 256)       590080    \n",
      "_________________________________________________________________\n",
      "block3_conv3 (Conv2D)        (None, 56, 56, 256)       590080    \n",
      "_________________________________________________________________\n",
      "block3_pool (MaxPooling2D)   (None, 28, 28, 256)       0         \n",
      "_________________________________________________________________\n",
      "block4_conv1 (Conv2D)        (None, 28, 28, 512)       1180160   \n",
      "_________________________________________________________________\n",
      "block4_conv2 (Conv2D)        (None, 28, 28, 512)       2359808   \n",
      "_________________________________________________________________\n",
      "block4_conv3 (Conv2D)        (None, 28, 28, 512)       2359808   \n",
      "_________________________________________________________________\n",
      "block4_pool (MaxPooling2D)   (None, 14, 14, 512)       0         \n",
      "_________________________________________________________________\n",
      "block5_conv1 (Conv2D)        (None, 14, 14, 512)       2359808   \n",
      "_________________________________________________________________\n",
      "block5_conv2 (Conv2D)        (None, 14, 14, 512)       2359808   \n",
      "_________________________________________________________________\n",
      "block5_conv3 (Conv2D)        (None, 14, 14, 512)       2359808   \n",
      "_________________________________________________________________\n",
      "block5_pool (MaxPooling2D)   (None, 7, 7, 512)         0         \n",
      "_________________________________________________________________\n",
      "global_average_pooling2d_1 ( (None, 512)               0         \n",
      "_________________________________________________________________\n",
      "dense_1 (Dense)              (None, 1800)              923400    \n",
      "_________________________________________________________________\n",
      "dense_2 (Dense)              (None, 1200)              2161200   \n",
      "_________________________________________________________________\n",
      "dense_3 (Dense)              (None, 1)                 1201      \n",
      "=================================================================\n",
      "Total params: 17,800,489\n",
      "Trainable params: 3,085,801\n",
      "Non-trainable params: 14,714,688\n",
      "_________________________________________________________________\n"
     ]
    }
   ],
   "source": [
    "facemodel.compile(optimizer=RMSprop(),loss='binary_crossentropy',metrics=['accuracy'])\n",
    "facemodel.summary()"
   ]
  },
  {
   "cell_type": "code",
   "execution_count": 8,
   "metadata": {},
   "outputs": [
    {
     "name": "stdout",
     "output_type": "stream",
     "text": [
      "Found 199 images belonging to 2 classes.\n",
      "Found 284 images belonging to 2 classes.\n"
     ]
    }
   ],
   "source": [
    "from keras_preprocessing.image import ImageDataGenerator\n",
    "train_datagen = ImageDataGenerator(\n",
    "        rescale=1./255,\n",
    "        shear_range=0.2,\n",
    "        zoom_range=0.2,\n",
    "        horizontal_flip=True)\n",
    "test_datagen = ImageDataGenerator(rescale=1./255)\n",
    "train_dataset = train_datagen.flow_from_directory(\n",
    "        'Facedataset/train/',\n",
    "        target_size=(224, 224),\n",
    "        batch_size=32,\n",
    "        class_mode='binary')\n",
    "test_dataset = test_datagen.flow_from_directory(\n",
    "        'Facedataset/test/',\n",
    "        target_size=(224, 224),\n",
    "        batch_size=32,\n",
    "        class_mode='binary')"
   ]
  },
  {
   "cell_type": "code",
   "execution_count": null,
   "metadata": {},
   "outputs": [],
   "source": []
  },
  {
   "cell_type": "code",
   "execution_count": 9,
   "metadata": {},
   "outputs": [
    {
     "name": "stdout",
     "output_type": "stream",
     "text": [
      "Epoch 1/4\n",
      "199/199 [==============================] - 3162s 16s/step - loss: 0.3234 - accuracy: 0.8758 - val_loss: 2.9443 - val_accuracy: 0.6095\n",
      "Epoch 2/4\n",
      "199/199 [==============================] - 3330s 17s/step - loss: 0.1101 - accuracy: 0.9705 - val_loss: 3.5334 - val_accuracy: 0.6298\n",
      "Epoch 3/4\n",
      "199/199 [==============================] - 3879s 19s/step - loss: 0.0921 - accuracy: 0.9806 - val_loss: 3.4099 - val_accuracy: 0.6305\n",
      "Epoch 4/4\n",
      "  5/199 [..............................] - ETA: 48:51 - loss: 0.0052 - accuracy: 1.0000"
     ]
    },
    {
     "name": "stderr",
     "output_type": "stream",
     "text": [
      "C:\\Users\\Home\\anaconda3\\envs\\mynewenv\\lib\\site-packages\\keras\\utils\\data_utils.py:616: UserWarning: The input 3 could not be retrieved. It could be because a worker has died.\n",
      "  UserWarning)\n"
     ]
    },
    {
     "name": "stdout",
     "output_type": "stream",
     "text": [
      "199/199 [==============================] - 3669s 18s/step - loss: 0.0644 - accuracy: 0.9895 - val_loss: 3.2370 - val_accuracy: 0.6090\n"
     ]
    },
    {
     "data": {
      "text/plain": [
       "<keras.callbacks.callbacks.History at 0x2bdfb052548>"
      ]
     },
     "execution_count": 9,
     "metadata": {},
     "output_type": "execute_result"
    }
   ],
   "source": [
    "\n",
    "facemodel.fit(\n",
    "        train_dataset,\n",
    "        steps_per_epoch=199,\n",
    "        epochs=4,\n",
    "        validation_data=test_dataset,\n",
    "validation_steps=200)"
   ]
  },
  {
   "cell_type": "code",
   "execution_count": 1,
   "metadata": {},
   "outputs": [
    {
     "name": "stderr",
     "output_type": "stream",
     "text": [
      "Using TensorFlow backend.\n"
     ]
    },
    {
     "ename": "NameError",
     "evalue": "name 'facemodel' is not defined",
     "output_type": "error",
     "traceback": [
      "\u001b[1;31m---------------------------------------------------------------------------\u001b[0m",
      "\u001b[1;31mNameError\u001b[0m                                 Traceback (most recent call last)",
      "\u001b[1;32m<ipython-input-1-70be2a93cdcc>\u001b[0m in \u001b[0;36m<module>\u001b[1;34m\u001b[0m\n\u001b[0;32m      6\u001b[0m \u001b[0mtest_image1\u001b[0m\u001b[1;33m.\u001b[0m\u001b[0mshape\u001b[0m\u001b[1;33m\u001b[0m\u001b[1;33m\u001b[0m\u001b[0m\n\u001b[0;32m      7\u001b[0m \u001b[0mtest_image2\u001b[0m\u001b[1;33m=\u001b[0m\u001b[0mnp\u001b[0m\u001b[1;33m.\u001b[0m\u001b[0mexpand_dims\u001b[0m\u001b[1;33m(\u001b[0m\u001b[0mtest_image1\u001b[0m\u001b[1;33m,\u001b[0m\u001b[0maxis\u001b[0m\u001b[1;33m=\u001b[0m\u001b[1;36m0\u001b[0m\u001b[1;33m)\u001b[0m\u001b[1;33m\u001b[0m\u001b[1;33m\u001b[0m\u001b[0m\n\u001b[1;32m----> 8\u001b[1;33m \u001b[0mresult\u001b[0m\u001b[1;33m=\u001b[0m\u001b[0mfacemodel\u001b[0m\u001b[1;33m.\u001b[0m\u001b[0mpredict\u001b[0m\u001b[1;33m(\u001b[0m\u001b[0mtest_image2\u001b[0m\u001b[1;33m)\u001b[0m\u001b[1;33m\u001b[0m\u001b[1;33m\u001b[0m\u001b[0m\n\u001b[0m\u001b[0;32m      9\u001b[0m \u001b[0mtrain_dataset\u001b[0m\u001b[1;33m.\u001b[0m\u001b[0mclass_indices\u001b[0m\u001b[1;33m\u001b[0m\u001b[1;33m\u001b[0m\u001b[0m\n\u001b[0;32m     10\u001b[0m \u001b[0mresult\u001b[0m\u001b[1;33m[\u001b[0m\u001b[1;36m0\u001b[0m\u001b[1;33m]\u001b[0m\u001b[1;33m[\u001b[0m\u001b[1;36m0\u001b[0m\u001b[1;33m]\u001b[0m\u001b[1;33m\u001b[0m\u001b[1;33m\u001b[0m\u001b[0m\n",
      "\u001b[1;31mNameError\u001b[0m: name 'facemodel' is not defined"
     ]
    }
   ],
   "source": [
    "from keras.preprocessing import image\n",
    "\n",
    "test_image=image.load_img('Facedataset/test/Akshay goyal/10.jpg',target_size=(224,224))\n",
    "import numpy as np\n",
    "test_image1=image.img_to_array(test_image)\n",
    "test_image1.shape\n",
    "test_image2=np.expand_dims(test_image1,axis=0)\n",
    "result=facemodel.predict(test_image2)"
   ]
  },
  {
   "cell_type": "code",
   "execution_count": null,
   "metadata": {},
   "outputs": [],
   "source": [
    "\n",
    "import cv2\n",
    "test_image1 = cv2.imread('Facedataset/test/Akshay goyal/10.jpg')\n",
    "test_image1=cv2.resize(test_image1, (350,350), interpolation = cv2.INTER_AREA)\n",
    "font = cv2.FONT_HERSHEY_SIMPLEX\n",
    "\n",
    "if result[0][0]==1:\n",
    "    cv2.putText(test_image1,'Hritick Goyal',(10,50), font, 1,(255,255,255),2)\n",
    "#Display the image\n",
    "    cv2.imshow(\"img\",test_image1)\n",
    "    cv2.waitKey(0) \n",
    "else:\n",
    "    cv2.putText(test_image1,'Akshay Goyal',(10,50), font, 1,(255,255,255),2)\n",
    "#Display the image\n",
    "    cv2.imshow(\"img\",test_image1)\n",
    "    cv2.waitKey(0)\n"
   ]
  },
  {
   "cell_type": "code",
   "execution_count": 12,
   "metadata": {},
   "outputs": [
    {
     "data": {
      "text/plain": [
       "{'Akshay Goyal': 0, 'Hritick goyal': 1}"
      ]
     },
     "execution_count": 12,
     "metadata": {},
     "output_type": "execute_result"
    }
   ],
   "source": [
    "train_dataset.class_indices"
   ]
  },
  {
   "cell_type": "code",
   "execution_count": null,
   "metadata": {},
   "outputs": [],
   "source": []
  }
 ],
 "metadata": {
  "kernelspec": {
   "display_name": "Python 3",
   "language": "python",
   "name": "python3"
  },
  "language_info": {
   "codemirror_mode": {
    "name": "ipython",
    "version": 3
   },
   "file_extension": ".py",
   "mimetype": "text/x-python",
   "name": "python",
   "nbconvert_exporter": "python",
   "pygments_lexer": "ipython3",
   "version": "3.7.7"
  }
 },
 "nbformat": 4,
 "nbformat_minor": 4
}
